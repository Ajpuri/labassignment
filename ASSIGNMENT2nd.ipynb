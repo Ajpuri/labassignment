{
 "cells": [
  {
   "cell_type": "markdown",
   "id": "d93ef9e7-e305-44ce-b102-6652fe5375de",
   "metadata": {},
   "source": [
    "Ans :- Q1.\n",
    "there are two type of comments which is given bellow .\n",
    "\n",
    "1.) Single - Line Commeent\n",
    "2.) Multi - Line Comment"
   ]
  },
  {
   "cell_type": "markdown",
   "id": "c6b5b8d4-e26f-42b4-80e9-73d5ab153bd8",
   "metadata": {},
   "source": [
    "Single - line comment in Python :-\n",
    " A single -line comment start and ends in the same line . We use the # symbol to write a single -line comment. For example,"
   ]
  },
  {
   "cell_type": "code",
   "execution_count": 1,
   "id": "0107aa4e-16bf-4cad-aeeb-07e50882a804",
   "metadata": {},
   "outputs": [],
   "source": [
    "# Create a variable\n",
    "name = \"Ajay kumar\""
   ]
  },
  {
   "cell_type": "code",
   "execution_count": 2,
   "id": "42358775-2af7-4354-a963-d34654475311",
   "metadata": {},
   "outputs": [
    {
     "name": "stdout",
     "output_type": "stream",
     "text": [
      "Ajay kumar\n"
     ]
    }
   ],
   "source": [
    "# Print the value\n",
    "print(name)"
   ]
  },
  {
   "cell_type": "markdown",
   "id": "2c4fa3a5-bcb1-4f75-9827-5058c492e26e",
   "metadata": {},
   "source": [
    "We can also use the single - line comment along with the code"
   ]
  },
  {
   "cell_type": "markdown",
   "id": "038ddb52-947d-44be-8784-9b21789d61aa",
   "metadata": {},
   "source": [
    "Here, we have created two single - line comments:\n",
    "    \n",
    "#Create a variable\n",
    "#print the value\n"
   ]
  },
  {
   "cell_type": "markdown",
   "id": "078c3e24-5075-4377-9a31-461729c596da",
   "metadata": {},
   "source": [
    "Multi - line Comment in Python:-\n",
    " Python does'nt offer a separate way to write multi-line comment.\n",
    "    However,  there are other ways to get around this issue.\n",
    "    \n",
    "We can use # at the beginning of each line of comment on multiple lines. For example,\n",
    "\n"
   ]
  },
  {
   "cell_type": "code",
   "execution_count": 6,
   "id": "91adbe9e-37f8-47f6-ab5d-a76e7e29fcc6",
   "metadata": {},
   "outputs": [
    {
     "data": {
      "text/plain": [
       "'this is a long comment\\nand it extendes \\nto multiple lines'"
      ]
     },
     "execution_count": 6,
     "metadata": {},
     "output_type": "execute_result"
    }
   ],
   "source": [
    "#this is a long comment\n",
    "#and it extendes \n",
    "#to multiple lines\n",
    "\"\"\"this is a long comment\n",
    "and it extendes \n",
    "to multiple lines\"\"\""
   ]
  },
  {
   "cell_type": "markdown",
   "id": "c693fb3d-c658-402d-b119-22ff06b9faed",
   "metadata": {},
   "source": [
    "Here, each line is treated as a single comment, and all of them are ignored.\n",
    "Another way of doing this is to use triple quotes, either ''' or \"\"\".\n",
    "\n",
    "These triple quotes are generally used for multi -line strings. But if we do not assign it to any variable or function, we can use it as a comment."
   ]
  },
  {
   "cell_type": "markdown",
   "id": "09481fcd-8e61-45ce-86f7-3afcb6403dde",
   "metadata": {},
   "source": [
    "#_______*******______******_____\n"
   ]
  },
  {
   "cell_type": "markdown",
   "id": "3cba3c2b-eb35-4ab5-a2be-fffd6801299b",
   "metadata": {},
   "source": [
    "Ans Q2. \n",
    "\n",
    "Python supports four different numerical types - int (signed integers) long(long integers, they can also be represented in octal and hexadecimal) float(floating point real values) complex(complex numbers) "
   ]
  },
  {
   "cell_type": "markdown",
   "id": "cf7e9d59-9618-4f73-84b3-5e968670fd0a",
   "metadata": {},
   "source": [
    "assign values to variables"
   ]
  },
  {
   "cell_type": "code",
   "execution_count": 8,
   "id": "a6e98896-731d-458a-b029-2349b81ee642",
   "metadata": {},
   "outputs": [],
   "source": [
    "a = 4  \n",
    "b = 1234\n",
    "c = 33.04\n",
    "d = 3 + 5j"
   ]
  },
  {
   "cell_type": "code",
   "execution_count": 9,
   "id": "a479ebdd-39ba-4370-b8df-cd98b33c3e33",
   "metadata": {},
   "outputs": [
    {
     "data": {
      "text/plain": [
       "(int, 4)"
      ]
     },
     "execution_count": 9,
     "metadata": {},
     "output_type": "execute_result"
    }
   ],
   "source": [
    "type(a),a"
   ]
  },
  {
   "cell_type": "code",
   "execution_count": 12,
   "id": "4dbd93f8-9a8e-4d18-9c03-81d177698c71",
   "metadata": {},
   "outputs": [
    {
     "data": {
      "text/plain": [
       "(int, 1234)"
      ]
     },
     "execution_count": 12,
     "metadata": {},
     "output_type": "execute_result"
    }
   ],
   "source": [
    "type(b),b"
   ]
  },
  {
   "cell_type": "code",
   "execution_count": 13,
   "id": "bc6e9111-4f88-488e-9ba2-118b854009d8",
   "metadata": {},
   "outputs": [
    {
     "data": {
      "text/plain": [
       "(float, 33.04)"
      ]
     },
     "execution_count": 13,
     "metadata": {},
     "output_type": "execute_result"
    }
   ],
   "source": [
    "type(c),c"
   ]
  },
  {
   "cell_type": "code",
   "execution_count": 15,
   "id": "5898a584-b8cf-482b-81d9-176a9a189fb3",
   "metadata": {},
   "outputs": [
    {
     "data": {
      "text/plain": [
       "(complex, (3+5j))"
      ]
     },
     "execution_count": 15,
     "metadata": {},
     "output_type": "execute_result"
    }
   ],
   "source": [
    "type(d),d"
   ]
  },
  {
   "cell_type": "markdown",
   "id": "c4fa5700-3c10-456c-8adb-a73961865767",
   "metadata": {},
   "source": [
    "AnsQ3.\n",
    "\n",
    "TO convert between types, you simply use the type name as a function, There are several built- in functions to perform conversion from one data type to another. These functions return a new object representing the converted value.\n",
    "\n",
    "  Python automatically converts \n",
    "  a to int and\n",
    "  Python automatically converts\n",
    "  b to float .\n",
    "  "
   ]
  },
  {
   "cell_type": "code",
   "execution_count": 6,
   "id": "175b4852-58c9-4b0b-b7d3-9b14516a4ff4",
   "metadata": {},
   "outputs": [],
   "source": [
    "a = 5\n",
    "b = 1.0"
   ]
  },
  {
   "cell_type": "code",
   "execution_count": 7,
   "id": "c4832d89-bb6c-4257-baf5-9a9c76a58844",
   "metadata": {},
   "outputs": [
    {
     "data": {
      "text/plain": [
       "(int, float)"
      ]
     },
     "execution_count": 7,
     "metadata": {},
     "output_type": "execute_result"
    }
   ],
   "source": [
    "type(a), type(b)"
   ]
  },
  {
   "cell_type": "code",
   "execution_count": 8,
   "id": "581e2285-7ba1-4f23-9685-413134a201ee",
   "metadata": {},
   "outputs": [],
   "source": [
    "c = a//b"
   ]
  },
  {
   "cell_type": "code",
   "execution_count": 9,
   "id": "43bef407-5e72-4bed-b905-0fe61844f3c5",
   "metadata": {},
   "outputs": [
    {
     "data": {
      "text/plain": [
       "(float, 5.0)"
      ]
     },
     "execution_count": 9,
     "metadata": {},
     "output_type": "execute_result"
    }
   ],
   "source": [
    "type(c),c"
   ]
  },
  {
   "cell_type": "markdown",
   "id": "cb47842a-f808-4043-8043-3a8af63fd06d",
   "metadata": {},
   "source": [
    "In the above example, it can be seen that Python handles all the type conversion automatically without any user involvement."
   ]
  },
  {
   "cell_type": "markdown",
   "id": "09559cba-15e4-4d8e-9af9-8153cdcc6747",
   "metadata": {},
   "source": [
    "#______*******________*******________"
   ]
  },
  {
   "cell_type": "markdown",
   "id": "f6e72e92-1c65-4ee5-b2b4-479530529174",
   "metadata": {},
   "source": [
    "AnsQ4.\n",
    "\n",
    "To run Python scripts with the Python command, you need to open a command -line and type in the word python, or python3 if you have both versions, followed by the path to your script, just loke this: "
   ]
  },
  {
   "cell_type": "markdown",
   "id": "c9c2ca4a-41e5-4af9-9249-e03a47519902",
   "metadata": {},
   "source": [
    "hello.py\n",
    "Hello World!"
   ]
  },
  {
   "cell_type": "markdown",
   "id": "4e22133c-2cfa-4e11-aebe-b97af1ae753b",
   "metadata": {},
   "source": [
    "If everything works okay, after you press Enter , you'll see the phrase Hello World!"
   ]
  },
  {
   "cell_type": "code",
   "execution_count": 12,
   "id": "b3ab6aef-c163-4379-9153-883ce44f2fa1",
   "metadata": {},
   "outputs": [],
   "source": [
    "#________**********__________********________"
   ]
  },
  {
   "cell_type": "markdown",
   "id": "ec3678f5-1f02-4f75-a002-6e059f233200",
   "metadata": {},
   "source": [
    "AnsQ5."
   ]
  },
  {
   "cell_type": "code",
   "execution_count": 13,
   "id": "389679fd-32a8-46f3-9fb9-8337a69aa282",
   "metadata": {},
   "outputs": [],
   "source": [
    "my_list = [1,2,3,4,5]"
   ]
  },
  {
   "cell_type": "code",
   "execution_count": 14,
   "id": "d75d42d6-47e8-4d32-a971-a1a399103ccc",
   "metadata": {},
   "outputs": [
    {
     "data": {
      "text/plain": [
       "[2, 3]"
      ]
     },
     "execution_count": 14,
     "metadata": {},
     "output_type": "execute_result"
    }
   ],
   "source": [
    "my_list[1:3]"
   ]
  },
  {
   "cell_type": "code",
   "execution_count": 15,
   "id": "10e873b4-f425-4fce-a3ce-9985804c7d49",
   "metadata": {},
   "outputs": [],
   "source": [
    "#_____*******_________*******______"
   ]
  },
  {
   "cell_type": "markdown",
   "id": "503c9177-3ad7-48a8-8874-64f8584521b2",
   "metadata": {},
   "source": [
    "AnsQ6."
   ]
  },
  {
   "cell_type": "markdown",
   "id": "3433fd8c-a8eb-4fbe-bb56-da79fcdc790a",
   "metadata": {},
   "source": [
    "Complex number are the number that are expressed in the from of a + ib where, a,b are real numbers and 'i' is an imaginary number called \"iota\" . The value of i = (/-1). For example, 2+3i is a complex number, where 2 is a real number (Re) and 3i is an imaginary number (Im)"
   ]
  },
  {
   "cell_type": "markdown",
   "id": "65bd170d-5643-4cde-b998-1d4cb4febbeb",
   "metadata": {},
   "source": [
    "Complex Numbers in Python\n",
    "\n",
    "complex([real,[imag]])"
   ]
  },
  {
   "cell_type": "code",
   "execution_count": 16,
   "id": "93c322cd-cdfe-4e88-a6a3-cf711c137822",
   "metadata": {},
   "outputs": [],
   "source": [
    "z = complex(5,7)"
   ]
  },
  {
   "cell_type": "code",
   "execution_count": 17,
   "id": "0d2bb9dc-41a5-4a4d-a1e4-58dcd0defaed",
   "metadata": {},
   "outputs": [
    {
     "name": "stdout",
     "output_type": "stream",
     "text": [
      "Output: (5+7j)\n"
     ]
    }
   ],
   "source": [
    "print(\"Output:\",z)"
   ]
  },
  {
   "cell_type": "code",
   "execution_count": 18,
   "id": "7f66d761-544b-4d44-bd6f-9502ec934f08",
   "metadata": {},
   "outputs": [],
   "source": [
    "z1 = complex(3)"
   ]
  },
  {
   "cell_type": "code",
   "execution_count": 19,
   "id": "9264e124-1955-484e-9360-8744e21570e0",
   "metadata": {},
   "outputs": [
    {
     "name": "stdout",
     "output_type": "stream",
     "text": [
      "Output (3+0j)\n"
     ]
    }
   ],
   "source": [
    "print(\"Output\",z1)"
   ]
  },
  {
   "cell_type": "code",
   "execution_count": 20,
   "id": "50ad662e-93ec-4a15-858d-6e58dd2cf64c",
   "metadata": {},
   "outputs": [],
   "source": [
    "#*******________*******_____"
   ]
  },
  {
   "cell_type": "markdown",
   "id": "fb4aff5b-9711-4b39-815e-d46073798162",
   "metadata": {},
   "source": [
    "AnsQ7."
   ]
  },
  {
   "cell_type": "markdown",
   "id": "e4b3ec7f-4c7f-4975-9748-3a51a4db201e",
   "metadata": {},
   "source": [
    "Use variables to store values.\n",
    "\n",
    "Variables are name for values.In Python the = symbol assigns the value on the right to the name on the left. The variable is created when a value is assigned to it. Here , Python assigns an age to a variabale age and a name in quotation marks to a variable first_name."
   ]
  },
  {
   "cell_type": "code",
   "execution_count": 2,
   "id": "782a7924-20bd-42b2-b646-83af1e1bbf36",
   "metadata": {},
   "outputs": [],
   "source": [
    "age = 25\n",
    "first_name = \"Ajay kumar\""
   ]
  },
  {
   "cell_type": "markdown",
   "id": "b776da6a-177d-4b73-a2bd-4fbe19e34dbc",
   "metadata": {},
   "source": [
    "Use print to display values.\n",
    "Python has a built -in function called print that prints things as text.\n",
    "Call the function (i.e., tell Python to run it ) by using its name. Provide values to the function (i.e. , the things to print ) in parentheses. To add a string to the printout, wrap the string in single quotations.\n",
    "The values passed to the function are called 'arguments'"
   ]
  },
  {
   "cell_type": "code",
   "execution_count": 3,
   "id": "07dedd81-1ba4-41ee-bab7-7dde83a27f2c",
   "metadata": {},
   "outputs": [
    {
     "name": "stdout",
     "output_type": "stream",
     "text": [
      "Ajay kumar is 25 year old\n"
     ]
    }
   ],
   "source": [
    "print(first_name, \"is\", age, \"year old\")"
   ]
  },
  {
   "cell_type": "markdown",
   "id": "e2cbbb0c-49a4-4978-bca9-f28b0d14e932",
   "metadata": {},
   "source": [
    "#*******______________***********______"
   ]
  },
  {
   "cell_type": "markdown",
   "id": "0a26148a-5c95-4ecc-95d4-a0843cdd2000",
   "metadata": {},
   "source": [
    "AnsQ8.\n",
    "\n",
    "The assignment operator, denoted by the \"=\" symbol, is the operator that is used to assign values to variables in Python. The line Price = 9.99 takes the known value, 9.99, and assigns that value to the variable with name \"Price\". After executing this line, this number will be stored into this variables. "
   ]
  },
  {
   "cell_type": "code",
   "execution_count": 4,
   "id": "92e2228f-0328-4b17-92a3-baf00f01b9bb",
   "metadata": {},
   "outputs": [],
   "source": [
    "Price = 9.99"
   ]
  },
  {
   "cell_type": "code",
   "execution_count": 5,
   "id": "9327c5f9-c7d4-45a7-9e4f-cf0dcc88e6a4",
   "metadata": {},
   "outputs": [
    {
     "data": {
      "text/plain": [
       "(float, 9.99)"
      ]
     },
     "execution_count": 5,
     "metadata": {},
     "output_type": "execute_result"
    }
   ],
   "source": [
    "type(Price),Price"
   ]
  },
  {
   "cell_type": "markdown",
   "id": "2335931d-977c-43c9-89dd-536b52cdfb12",
   "metadata": {},
   "source": [
    "The data type of variable \"Price\" is foalting value"
   ]
  },
  {
   "cell_type": "markdown",
   "id": "b9f9df20-737e-425c-b02f-7283b315be0f",
   "metadata": {},
   "source": [
    "#_______******_________*******____"
   ]
  },
  {
   "cell_type": "code",
   "execution_count": 10,
   "id": "2e6b63ab-465d-45a1-a2f0-fd8b166b2d7f",
   "metadata": {},
   "outputs": [],
   "source": [
    "#AnsQ9.\n",
    "\n",
    "d = {'my_full_name' : \"Ajay Kumar Puri\"}"
   ]
  },
  {
   "cell_type": "code",
   "execution_count": 14,
   "id": "176d36e2-f889-49e7-b6b5-33c9faba0461",
   "metadata": {},
   "outputs": [
    {
     "data": {
      "text/plain": [
       "dict_values(['Ajay Kumar Puri'])"
      ]
     },
     "execution_count": 14,
     "metadata": {},
     "output_type": "execute_result"
    }
   ],
   "source": [
    "d.values()"
   ]
  },
  {
   "cell_type": "markdown",
   "id": "2fdfbc97-4d0a-4970-8fd0-285db4692033",
   "metadata": {},
   "source": [
    "#_____*********_______*******"
   ]
  },
  {
   "cell_type": "markdown",
   "id": "5cd0a448-cbb3-45e9-8155-3e7dc4d777f7",
   "metadata": {},
   "source": [
    "AnsQ10.\n",
    "Extracting the \"World\" form \"Hello,World!\" as a string."
   ]
  },
  {
   "cell_type": "code",
   "execution_count": 1,
   "id": "ee9db6d6-21d7-411e-8bc5-c8e4879f5d6e",
   "metadata": {},
   "outputs": [],
   "source": [
    "A = \"Hello,World!\""
   ]
  },
  {
   "cell_type": "code",
   "execution_count": 2,
   "id": "1631320c-ff44-4720-bfd9-4884961adb61",
   "metadata": {},
   "outputs": [
    {
     "data": {
      "text/plain": [
       "'World'"
      ]
     },
     "execution_count": 2,
     "metadata": {},
     "output_type": "execute_result"
    }
   ],
   "source": [
    "A[-6:-1]"
   ]
  },
  {
   "cell_type": "code",
   "execution_count": 3,
   "id": "9f16649e-9e4a-4457-bb03-f0d5b1cd6d40",
   "metadata": {},
   "outputs": [],
   "source": [
    "#******________*******_______"
   ]
  },
  {
   "cell_type": "markdown",
   "id": "d16283d1-1402-4425-bf59-20f9a606b660",
   "metadata": {},
   "source": [
    "AnsQ11.\n",
    "Create a variable named \"is_student\" and assign it a boolean value indicating whether you are \n",
    "currently a student or not."
   ]
  },
  {
   "cell_type": "code",
   "execution_count": 1,
   "id": "6ba47487-6879-4b39-96a8-24e799406354",
   "metadata": {},
   "outputs": [
    {
     "name": "stdout",
     "output_type": "stream",
     "text": [
      "True : you are currently a student\n"
     ]
    }
   ],
   "source": [
    "is_student = True\n",
    "x = is_student\n",
    "if x == True:\n",
    "    print(x,\":\" ,\"you are currently a student\")\n",
    "else :\n",
    "    print(\"you are not currently a student\")"
   ]
  },
  {
   "cell_type": "code",
   "execution_count": null,
   "id": "97ebb403-f5fd-4b53-a677-a383dde0199b",
   "metadata": {},
   "outputs": [],
   "source": []
  }
 ],
 "metadata": {
  "kernelspec": {
   "display_name": "Python 3 (ipykernel)",
   "language": "python",
   "name": "python3"
  },
  "language_info": {
   "codemirror_mode": {
    "name": "ipython",
    "version": 3
   },
   "file_extension": ".py",
   "mimetype": "text/x-python",
   "name": "python",
   "nbconvert_exporter": "python",
   "pygments_lexer": "ipython3",
   "version": "3.10.8"
  }
 },
 "nbformat": 4,
 "nbformat_minor": 5
}
